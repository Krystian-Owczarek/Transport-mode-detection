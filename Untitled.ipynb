{
 "cells": [
  {
   "cell_type": "code",
   "execution_count": 7,
   "id": "c7f868ec",
   "metadata": {},
   "outputs": [
    {
     "ename": "ImportError",
     "evalue": "cannot import name 'ydata_quality' from 'ydata' (D:\\PROGRAMMING\\Anaconda\\lib\\site-packages\\ydata\\__init__.py)",
     "output_type": "error",
     "traceback": [
      "\u001b[1;31m---------------------------------------------------------------------------\u001b[0m",
      "\u001b[1;31mImportError\u001b[0m                               Traceback (most recent call last)",
      "Input \u001b[1;32mIn [7]\u001b[0m, in \u001b[0;36m<cell line: 1>\u001b[1;34m()\u001b[0m\n\u001b[1;32m----> 1\u001b[0m \u001b[38;5;28;01mfrom\u001b[39;00m \u001b[38;5;21;01mydata\u001b[39;00m \u001b[38;5;28;01mimport\u001b[39;00m ydata_quality\n",
      "\u001b[1;31mImportError\u001b[0m: cannot import name 'ydata_quality' from 'ydata' (D:\\PROGRAMMING\\Anaconda\\lib\\site-packages\\ydata\\__init__.py)"
     ]
    }
   ],
   "source": [
    "from ydata import ydata_quality"
   ]
  },
  {
   "cell_type": "code",
   "execution_count": 9,
   "id": "34a5558c",
   "metadata": {},
   "outputs": [
    {
     "name": "stdout",
     "output_type": "stream",
     "text": [
      "Help on package ydata:\n",
      "\n",
      "NAME\n",
      "    ydata\n",
      "\n",
      "PACKAGE CONTENTS\n",
      "\n",
      "\n",
      "CLASSES\n",
      "    builtins.object\n",
      "        Ydata\n",
      "    \n",
      "    class Ydata(builtins.object)\n",
      "     |  Ydata(symbol: str)\n",
      "     |  \n",
      "     |  Methods defined here:\n",
      "     |  \n",
      "     |  __init__(self, symbol: str)\n",
      "     |      Initialize self.  See help(type(self)) for accurate signature.\n",
      "     |  \n",
      "     |  currentPrice(self)\n",
      "     |  \n",
      "     |  historical(self, initialDate: str, endDate: str)\n",
      "     |  \n",
      "     |  oneMonth(self)\n",
      "     |  \n",
      "     |  oneWeek(self)\n",
      "     |  \n",
      "     |  twoMonths(self)\n",
      "     |  \n",
      "     |  twoWeeks(self)\n",
      "     |  \n",
      "     |  ----------------------------------------------------------------------\n",
      "     |  Data descriptors defined here:\n",
      "     |  \n",
      "     |  __dict__\n",
      "     |      dictionary for instance variables (if defined)\n",
      "     |  \n",
      "     |  __weakref__\n",
      "     |      list of weak references to the object (if defined)\n",
      "\n",
      "FILE\n",
      "    d:\\programming\\anaconda\\lib\\site-packages\\ydata\\__init__.py\n",
      "\n",
      "\n"
     ]
    }
   ],
   "source": [
    "help(ydata)"
   ]
  },
  {
   "cell_type": "code",
   "execution_count": null,
   "id": "8944a5a9",
   "metadata": {},
   "outputs": [],
   "source": []
  }
 ],
 "metadata": {
  "kernelspec": {
   "display_name": "Python 3 (ipykernel)",
   "language": "python",
   "name": "python3"
  },
  "language_info": {
   "codemirror_mode": {
    "name": "ipython",
    "version": 3
   },
   "file_extension": ".py",
   "mimetype": "text/x-python",
   "name": "python",
   "nbconvert_exporter": "python",
   "pygments_lexer": "ipython3",
   "version": "3.9.12"
  }
 },
 "nbformat": 4,
 "nbformat_minor": 5
}
